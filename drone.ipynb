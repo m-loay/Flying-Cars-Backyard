{
 "metadata": {
  "language_info": {
   "codemirror_mode": {
    "name": "ipython",
    "version": 3
   },
   "file_extension": ".py",
   "mimetype": "text/x-python",
   "name": "python",
   "nbconvert_exporter": "python",
   "pygments_lexer": "ipython3",
   "version": "3.6.3-final"
  },
  "orig_nbformat": 2,
  "kernelspec": {
   "name": "python3",
   "display_name": "Python 3.6.3 64-bit ('fcnd': conda)",
   "metadata": {
    "interpreter": {
     "hash": "e7d70037b7686475eacc12d494e19dcc0061698cd3acae9512f0811d0e2e116c"
    }
   }
  }
 },
 "nbformat": 4,
 "nbformat_minor": 2,
 "cells": [
  {
   "source": [
    "# Drone Example (Creating Square)"
   ],
   "cell_type": "markdown",
   "metadata": {}
  },
  {
   "source": [
    "Add udacity drone, Connection and time imports"
   ],
   "cell_type": "markdown",
   "metadata": {}
  },
  {
   "source": [
    "from udacidrone import Drone\n",
    "from udacidrone.connection import MavlinkConnection\n",
    "import time\n"
   ],
   "cell_type": "code",
   "metadata": {},
   "execution_count": 2,
   "outputs": []
  },
  {
   "cell_type": "code",
   "execution_count": null,
   "metadata": {},
   "outputs": [],
   "source": []
  },
  {
   "source": [
    "Instantiate Drone and Connection objects then Initialize drone"
   ],
   "cell_type": "markdown",
   "metadata": {}
  },
  {
   "source": [
    "set the attuide to 5 meter"
   ],
   "cell_type": "markdown",
   "metadata": {}
  },
  {
   "cell_type": "code",
   "execution_count": 5,
   "metadata": {},
   "outputs": [
    {
     "output_type": "stream",
     "name": "stdout",
     "text": [
      "Logs\\TLog.txt\n"
     ]
    }
   ],
   "source": [
    "conn = MavlinkConnection('tcp:127.0.0.1:5760', threaded=True)\n",
    "drone = Drone(conn)\n",
    "drone.start()\n",
    "drone.take_control()\n",
    "drone.arm()\n",
    "drone.set_home_position(drone.global_position[0], \n",
    "                        drone.global_position[1], \n",
    "                        drone.global_position[2])"
   ]
  },
  {
   "cell_type": "code",
   "execution_count": 6,
   "metadata": {},
   "outputs": [],
   "source": [
    "drone.takeoff(5)\n"
   ]
  },
  {
   "source": [
    "Create a square maneuver"
   ],
   "cell_type": "markdown",
   "metadata": {}
  },
  {
   "cell_type": "code",
   "execution_count": 9,
   "metadata": {},
   "outputs": [
    {
     "output_type": "stream",
     "name": "stdout",
     "text": [
      "(0, 0, 5, 0)\n",
      "(0, 10, 5, 0)\n",
      "(10, 10, 5, 0)\n",
      "(10, 0, 5, 0)\n",
      "(0, 0, 5, 0)\n"
     ]
    }
   ],
   "source": [
    "square = [\n",
    "    (0,0,5,0),\n",
    "    (0,10,5,0),\n",
    "    (10,10,5,0),\n",
    "    (10,0,5,0),\n",
    "    (0,0,5,0)\n",
    "]\n",
    "for corner in square:\n",
    "    print(corner)\n",
    "    drone.cmd_position(*corner)\n",
    "    time.sleep(4)"
   ]
  },
  {
   "cell_type": "code",
   "execution_count": null,
   "metadata": {},
   "outputs": [],
   "source": []
  }
 ]
}